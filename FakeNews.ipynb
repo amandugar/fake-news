{
  "nbformat": 4,
  "nbformat_minor": 0,
  "metadata": {
    "colab": {
      "name": "FakeNews.ipynb",
      "provenance": [],
      "collapsed_sections": []
    },
    "kernelspec": {
      "name": "python3",
      "display_name": "Python 3"
    },
    "language_info": {
      "name": "python"
    }
  },
  "cells": [
    {
      "cell_type": "markdown",
      "metadata": {
        "id": "OH_d_fuh0tBt"
      },
      "source": [
        "Importing Libraries"
      ]
    },
    {
      "cell_type": "code",
      "metadata": {
        "id": "6iq7-cZjq8Yc"
      },
      "source": [
        "import pandas as pd\n",
        "import numpy as np\n",
        "import seaborn as sns\n",
        "import matplotlib.pyplot as plt\n",
        "from sklearn.model_selection import train_test_split\n",
        "from sklearn.metrics import accuracy_score\n",
        "from sklearn.metrics import classification_report\n",
        "import re\n",
        "import string"
      ],
      "execution_count": 1,
      "outputs": []
    },
    {
      "cell_type": "markdown",
      "metadata": {
        "id": "Pv_NK9W20yzJ"
      },
      "source": [
        "Reading Data"
      ]
    },
    {
      "cell_type": "code",
      "metadata": {
        "id": "tyAXheacunF8"
      },
      "source": [
        "df_fake = pd.read_csv(\"Fake.csv\")\n",
        "df_true = pd.read_csv(\"True.csv\")"
      ],
      "execution_count": 2,
      "outputs": []
    },
    {
      "cell_type": "markdown",
      "metadata": {
        "id": "0nz1c_Cx00nH"
      },
      "source": [
        "Viewing Data"
      ]
    },
    {
      "cell_type": "code",
      "metadata": {
        "colab": {
          "base_uri": "https://localhost:8080/",
          "height": 204
        },
        "id": "NcLsgip3uxox",
        "outputId": "c4b6551c-3c54-4226-ece7-17581af531f1"
      },
      "source": [
        "df_fake.head(5)"
      ],
      "execution_count": 3,
      "outputs": [
        {
          "output_type": "execute_result",
          "data": {
            "text/html": [
              "<div>\n",
              "<style scoped>\n",
              "    .dataframe tbody tr th:only-of-type {\n",
              "        vertical-align: middle;\n",
              "    }\n",
              "\n",
              "    .dataframe tbody tr th {\n",
              "        vertical-align: top;\n",
              "    }\n",
              "\n",
              "    .dataframe thead th {\n",
              "        text-align: right;\n",
              "    }\n",
              "</style>\n",
              "<table border=\"1\" class=\"dataframe\">\n",
              "  <thead>\n",
              "    <tr style=\"text-align: right;\">\n",
              "      <th></th>\n",
              "      <th>title</th>\n",
              "      <th>text</th>\n",
              "      <th>subject</th>\n",
              "      <th>date</th>\n",
              "    </tr>\n",
              "  </thead>\n",
              "  <tbody>\n",
              "    <tr>\n",
              "      <th>0</th>\n",
              "      <td>Donald Trump Sends Out Embarrassing New Year’...</td>\n",
              "      <td>Donald Trump just couldn t wish all Americans ...</td>\n",
              "      <td>News</td>\n",
              "      <td>December 31, 2017</td>\n",
              "    </tr>\n",
              "    <tr>\n",
              "      <th>1</th>\n",
              "      <td>Drunk Bragging Trump Staffer Started Russian ...</td>\n",
              "      <td>House Intelligence Committee Chairman Devin Nu...</td>\n",
              "      <td>News</td>\n",
              "      <td>December 31, 2017</td>\n",
              "    </tr>\n",
              "    <tr>\n",
              "      <th>2</th>\n",
              "      <td>Sheriff David Clarke Becomes An Internet Joke...</td>\n",
              "      <td>On Friday, it was revealed that former Milwauk...</td>\n",
              "      <td>News</td>\n",
              "      <td>December 30, 2017</td>\n",
              "    </tr>\n",
              "    <tr>\n",
              "      <th>3</th>\n",
              "      <td>Trump Is So Obsessed He Even Has Obama’s Name...</td>\n",
              "      <td>On Christmas day, Donald Trump announced that ...</td>\n",
              "      <td>News</td>\n",
              "      <td>December 29, 2017</td>\n",
              "    </tr>\n",
              "    <tr>\n",
              "      <th>4</th>\n",
              "      <td>Pope Francis Just Called Out Donald Trump Dur...</td>\n",
              "      <td>Pope Francis used his annual Christmas Day mes...</td>\n",
              "      <td>News</td>\n",
              "      <td>December 25, 2017</td>\n",
              "    </tr>\n",
              "  </tbody>\n",
              "</table>\n",
              "</div>"
            ],
            "text/plain": [
              "                                               title  ...               date\n",
              "0   Donald Trump Sends Out Embarrassing New Year’...  ...  December 31, 2017\n",
              "1   Drunk Bragging Trump Staffer Started Russian ...  ...  December 31, 2017\n",
              "2   Sheriff David Clarke Becomes An Internet Joke...  ...  December 30, 2017\n",
              "3   Trump Is So Obsessed He Even Has Obama’s Name...  ...  December 29, 2017\n",
              "4   Pope Francis Just Called Out Donald Trump Dur...  ...  December 25, 2017\n",
              "\n",
              "[5 rows x 4 columns]"
            ]
          },
          "metadata": {
            "tags": []
          },
          "execution_count": 3
        }
      ]
    },
    {
      "cell_type": "code",
      "metadata": {
        "colab": {
          "base_uri": "https://localhost:8080/",
          "height": 204
        },
        "id": "XXvd8CIKu75V",
        "outputId": "e82262d0-4390-4718-c595-594139213074"
      },
      "source": [
        "df_true.head(5)"
      ],
      "execution_count": 4,
      "outputs": [
        {
          "output_type": "execute_result",
          "data": {
            "text/html": [
              "<div>\n",
              "<style scoped>\n",
              "    .dataframe tbody tr th:only-of-type {\n",
              "        vertical-align: middle;\n",
              "    }\n",
              "\n",
              "    .dataframe tbody tr th {\n",
              "        vertical-align: top;\n",
              "    }\n",
              "\n",
              "    .dataframe thead th {\n",
              "        text-align: right;\n",
              "    }\n",
              "</style>\n",
              "<table border=\"1\" class=\"dataframe\">\n",
              "  <thead>\n",
              "    <tr style=\"text-align: right;\">\n",
              "      <th></th>\n",
              "      <th>title</th>\n",
              "      <th>text</th>\n",
              "      <th>subject</th>\n",
              "      <th>date</th>\n",
              "    </tr>\n",
              "  </thead>\n",
              "  <tbody>\n",
              "    <tr>\n",
              "      <th>0</th>\n",
              "      <td>As U.S. budget fight looms, Republicans flip t...</td>\n",
              "      <td>WASHINGTON (Reuters) - The head of a conservat...</td>\n",
              "      <td>politicsNews</td>\n",
              "      <td>December 31, 2017</td>\n",
              "    </tr>\n",
              "    <tr>\n",
              "      <th>1</th>\n",
              "      <td>U.S. military to accept transgender recruits o...</td>\n",
              "      <td>WASHINGTON (Reuters) - Transgender people will...</td>\n",
              "      <td>politicsNews</td>\n",
              "      <td>December 29, 2017</td>\n",
              "    </tr>\n",
              "    <tr>\n",
              "      <th>2</th>\n",
              "      <td>Senior U.S. Republican senator: 'Let Mr. Muell...</td>\n",
              "      <td>WASHINGTON (Reuters) - The special counsel inv...</td>\n",
              "      <td>politicsNews</td>\n",
              "      <td>December 31, 2017</td>\n",
              "    </tr>\n",
              "    <tr>\n",
              "      <th>3</th>\n",
              "      <td>FBI Russia probe helped by Australian diplomat...</td>\n",
              "      <td>WASHINGTON (Reuters) - Trump campaign adviser ...</td>\n",
              "      <td>politicsNews</td>\n",
              "      <td>December 30, 2017</td>\n",
              "    </tr>\n",
              "    <tr>\n",
              "      <th>4</th>\n",
              "      <td>Trump wants Postal Service to charge 'much mor...</td>\n",
              "      <td>SEATTLE/WASHINGTON (Reuters) - President Donal...</td>\n",
              "      <td>politicsNews</td>\n",
              "      <td>December 29, 2017</td>\n",
              "    </tr>\n",
              "  </tbody>\n",
              "</table>\n",
              "</div>"
            ],
            "text/plain": [
              "                                               title  ...                date\n",
              "0  As U.S. budget fight looms, Republicans flip t...  ...  December 31, 2017 \n",
              "1  U.S. military to accept transgender recruits o...  ...  December 29, 2017 \n",
              "2  Senior U.S. Republican senator: 'Let Mr. Muell...  ...  December 31, 2017 \n",
              "3  FBI Russia probe helped by Australian diplomat...  ...  December 30, 2017 \n",
              "4  Trump wants Postal Service to charge 'much mor...  ...  December 29, 2017 \n",
              "\n",
              "[5 rows x 4 columns]"
            ]
          },
          "metadata": {
            "tags": []
          },
          "execution_count": 4
        }
      ]
    },
    {
      "cell_type": "markdown",
      "metadata": {
        "id": "wCgjiARs06FO"
      },
      "source": [
        "Adding classes 1 for True News 0 for Fake News "
      ]
    },
    {
      "cell_type": "code",
      "metadata": {
        "id": "v9MM3BtEvKoG"
      },
      "source": [
        "df_fake[\"class\"] = 0\n",
        "df_true[\"class\"] = 1"
      ],
      "execution_count": 5,
      "outputs": []
    },
    {
      "cell_type": "markdown",
      "metadata": {
        "id": "Tda0HZ7J1E3v"
      },
      "source": [
        "Identifying the shape of the data"
      ]
    },
    {
      "cell_type": "code",
      "metadata": {
        "colab": {
          "base_uri": "https://localhost:8080/"
        },
        "id": "F1UGqMq3vN1a",
        "outputId": "a8ccfcc9-143c-44df-c452-656157bbba9a"
      },
      "source": [
        "df_fake.shape, df_true.shape"
      ],
      "execution_count": 6,
      "outputs": [
        {
          "output_type": "execute_result",
          "data": {
            "text/plain": [
              "((23481, 5), (21417, 5))"
            ]
          },
          "metadata": {
            "tags": []
          },
          "execution_count": 6
        }
      ]
    },
    {
      "cell_type": "markdown",
      "metadata": {
        "id": "PlDbs67A1I6E"
      },
      "source": [
        "Removing 10 entries for mannual testing from each file"
      ]
    },
    {
      "cell_type": "code",
      "metadata": {
        "id": "zecDLkwsvQ3o"
      },
      "source": [
        "df_fake_manual_testing = df_fake.tail(10)\n",
        "for i in range(23480,23470,-1):\n",
        "    df_fake.drop([i], axis = 0, inplace = True)\n",
        "df_true_manual_testing = df_true.tail(10)\n",
        "for i in range(21416,21406,-1):\n",
        "    df_true.drop([i], axis = 0, inplace = True)"
      ],
      "execution_count": 7,
      "outputs": []
    },
    {
      "cell_type": "code",
      "metadata": {
        "colab": {
          "base_uri": "https://localhost:8080/"
        },
        "id": "nKaTqdAGvTZV",
        "outputId": "74f45f68-5985-4c12-bfd8-badfdec37f8e"
      },
      "source": [
        "df_fake.shape, df_true.shape"
      ],
      "execution_count": 8,
      "outputs": [
        {
          "output_type": "execute_result",
          "data": {
            "text/plain": [
              "((23471, 5), (21407, 5))"
            ]
          },
          "metadata": {
            "tags": []
          },
          "execution_count": 8
        }
      ]
    },
    {
      "cell_type": "code",
      "metadata": {
        "colab": {
          "base_uri": "https://localhost:8080/"
        },
        "id": "2sEKj5KNvZWa",
        "outputId": "043e6860-4342-436a-97dd-1ac647826d61"
      },
      "source": [
        "df_fake_manual_testing[\"class\"] = 0\n",
        "df_true_manual_testing[\"class\"] = 1"
      ],
      "execution_count": 9,
      "outputs": [
        {
          "output_type": "stream",
          "text": [
            "/usr/local/lib/python3.7/dist-packages/ipykernel_launcher.py:1: SettingWithCopyWarning: \n",
            "A value is trying to be set on a copy of a slice from a DataFrame.\n",
            "Try using .loc[row_indexer,col_indexer] = value instead\n",
            "\n",
            "See the caveats in the documentation: https://pandas.pydata.org/pandas-docs/stable/user_guide/indexing.html#returning-a-view-versus-a-copy\n",
            "  \"\"\"Entry point for launching an IPython kernel.\n",
            "/usr/local/lib/python3.7/dist-packages/ipykernel_launcher.py:2: SettingWithCopyWarning: \n",
            "A value is trying to be set on a copy of a slice from a DataFrame.\n",
            "Try using .loc[row_indexer,col_indexer] = value instead\n",
            "\n",
            "See the caveats in the documentation: https://pandas.pydata.org/pandas-docs/stable/user_guide/indexing.html#returning-a-view-versus-a-copy\n",
            "  \n"
          ],
          "name": "stderr"
        }
      ]
    },
    {
      "cell_type": "code",
      "metadata": {
        "colab": {
          "base_uri": "https://localhost:8080/",
          "height": 529
        },
        "id": "rdTTEt56vgJN",
        "outputId": "ed56142b-f2b9-47fe-a02f-b180900159c8"
      },
      "source": [
        "df_fake_manual_testing.head(10)"
      ],
      "execution_count": 10,
      "outputs": [
        {
          "output_type": "execute_result",
          "data": {
            "text/html": [
              "<div>\n",
              "<style scoped>\n",
              "    .dataframe tbody tr th:only-of-type {\n",
              "        vertical-align: middle;\n",
              "    }\n",
              "\n",
              "    .dataframe tbody tr th {\n",
              "        vertical-align: top;\n",
              "    }\n",
              "\n",
              "    .dataframe thead th {\n",
              "        text-align: right;\n",
              "    }\n",
              "</style>\n",
              "<table border=\"1\" class=\"dataframe\">\n",
              "  <thead>\n",
              "    <tr style=\"text-align: right;\">\n",
              "      <th></th>\n",
              "      <th>title</th>\n",
              "      <th>text</th>\n",
              "      <th>subject</th>\n",
              "      <th>date</th>\n",
              "      <th>class</th>\n",
              "    </tr>\n",
              "  </thead>\n",
              "  <tbody>\n",
              "    <tr>\n",
              "      <th>23471</th>\n",
              "      <td>Seven Iranians freed in the prisoner swap have...</td>\n",
              "      <td>21st Century Wire says This week, the historic...</td>\n",
              "      <td>Middle-east</td>\n",
              "      <td>January 20, 2016</td>\n",
              "      <td>0</td>\n",
              "    </tr>\n",
              "    <tr>\n",
              "      <th>23472</th>\n",
              "      <td>#Hashtag Hell &amp; The Fake Left</td>\n",
              "      <td>By Dady Chery and Gilbert MercierAll writers ...</td>\n",
              "      <td>Middle-east</td>\n",
              "      <td>January 19, 2016</td>\n",
              "      <td>0</td>\n",
              "    </tr>\n",
              "    <tr>\n",
              "      <th>23473</th>\n",
              "      <td>Astroturfing: Journalist Reveals Brainwashing ...</td>\n",
              "      <td>Vic Bishop Waking TimesOur reality is carefull...</td>\n",
              "      <td>Middle-east</td>\n",
              "      <td>January 19, 2016</td>\n",
              "      <td>0</td>\n",
              "    </tr>\n",
              "    <tr>\n",
              "      <th>23474</th>\n",
              "      <td>The New American Century: An Era of Fraud</td>\n",
              "      <td>Paul Craig RobertsIn the last years of the 20t...</td>\n",
              "      <td>Middle-east</td>\n",
              "      <td>January 19, 2016</td>\n",
              "      <td>0</td>\n",
              "    </tr>\n",
              "    <tr>\n",
              "      <th>23475</th>\n",
              "      <td>Hillary Clinton: ‘Israel First’ (and no peace ...</td>\n",
              "      <td>Robert Fantina CounterpunchAlthough the United...</td>\n",
              "      <td>Middle-east</td>\n",
              "      <td>January 18, 2016</td>\n",
              "      <td>0</td>\n",
              "    </tr>\n",
              "    <tr>\n",
              "      <th>23476</th>\n",
              "      <td>McPain: John McCain Furious That Iran Treated ...</td>\n",
              "      <td>21st Century Wire says As 21WIRE reported earl...</td>\n",
              "      <td>Middle-east</td>\n",
              "      <td>January 16, 2016</td>\n",
              "      <td>0</td>\n",
              "    </tr>\n",
              "    <tr>\n",
              "      <th>23477</th>\n",
              "      <td>JUSTICE? Yahoo Settles E-mail Privacy Class-ac...</td>\n",
              "      <td>21st Century Wire says It s a familiar theme. ...</td>\n",
              "      <td>Middle-east</td>\n",
              "      <td>January 16, 2016</td>\n",
              "      <td>0</td>\n",
              "    </tr>\n",
              "    <tr>\n",
              "      <th>23478</th>\n",
              "      <td>Sunnistan: US and Allied ‘Safe Zone’ Plan to T...</td>\n",
              "      <td>Patrick Henningsen  21st Century WireRemember ...</td>\n",
              "      <td>Middle-east</td>\n",
              "      <td>January 15, 2016</td>\n",
              "      <td>0</td>\n",
              "    </tr>\n",
              "    <tr>\n",
              "      <th>23479</th>\n",
              "      <td>How to Blow $700 Million: Al Jazeera America F...</td>\n",
              "      <td>21st Century Wire says Al Jazeera America will...</td>\n",
              "      <td>Middle-east</td>\n",
              "      <td>January 14, 2016</td>\n",
              "      <td>0</td>\n",
              "    </tr>\n",
              "    <tr>\n",
              "      <th>23480</th>\n",
              "      <td>10 U.S. Navy Sailors Held by Iranian Military ...</td>\n",
              "      <td>21st Century Wire says As 21WIRE predicted in ...</td>\n",
              "      <td>Middle-east</td>\n",
              "      <td>January 12, 2016</td>\n",
              "      <td>0</td>\n",
              "    </tr>\n",
              "  </tbody>\n",
              "</table>\n",
              "</div>"
            ],
            "text/plain": [
              "                                                   title  ... class\n",
              "23471  Seven Iranians freed in the prisoner swap have...  ...     0\n",
              "23472                      #Hashtag Hell & The Fake Left  ...     0\n",
              "23473  Astroturfing: Journalist Reveals Brainwashing ...  ...     0\n",
              "23474          The New American Century: An Era of Fraud  ...     0\n",
              "23475  Hillary Clinton: ‘Israel First’ (and no peace ...  ...     0\n",
              "23476  McPain: John McCain Furious That Iran Treated ...  ...     0\n",
              "23477  JUSTICE? Yahoo Settles E-mail Privacy Class-ac...  ...     0\n",
              "23478  Sunnistan: US and Allied ‘Safe Zone’ Plan to T...  ...     0\n",
              "23479  How to Blow $700 Million: Al Jazeera America F...  ...     0\n",
              "23480  10 U.S. Navy Sailors Held by Iranian Military ...  ...     0\n",
              "\n",
              "[10 rows x 5 columns]"
            ]
          },
          "metadata": {
            "tags": []
          },
          "execution_count": 10
        }
      ]
    },
    {
      "cell_type": "code",
      "metadata": {
        "colab": {
          "base_uri": "https://localhost:8080/",
          "height": 529
        },
        "id": "cL-o8z7TviBU",
        "outputId": "f7e8d7b2-1c59-4e22-9539-ff2cd0cd62d7"
      },
      "source": [
        "df_true_manual_testing.head(10)"
      ],
      "execution_count": 11,
      "outputs": [
        {
          "output_type": "execute_result",
          "data": {
            "text/html": [
              "<div>\n",
              "<style scoped>\n",
              "    .dataframe tbody tr th:only-of-type {\n",
              "        vertical-align: middle;\n",
              "    }\n",
              "\n",
              "    .dataframe tbody tr th {\n",
              "        vertical-align: top;\n",
              "    }\n",
              "\n",
              "    .dataframe thead th {\n",
              "        text-align: right;\n",
              "    }\n",
              "</style>\n",
              "<table border=\"1\" class=\"dataframe\">\n",
              "  <thead>\n",
              "    <tr style=\"text-align: right;\">\n",
              "      <th></th>\n",
              "      <th>title</th>\n",
              "      <th>text</th>\n",
              "      <th>subject</th>\n",
              "      <th>date</th>\n",
              "      <th>class</th>\n",
              "    </tr>\n",
              "  </thead>\n",
              "  <tbody>\n",
              "    <tr>\n",
              "      <th>21407</th>\n",
              "      <td>Mata Pires, owner of embattled Brazil builder ...</td>\n",
              "      <td>SAO PAULO (Reuters) - Cesar Mata Pires, the ow...</td>\n",
              "      <td>worldnews</td>\n",
              "      <td>August 22, 2017</td>\n",
              "      <td>1</td>\n",
              "    </tr>\n",
              "    <tr>\n",
              "      <th>21408</th>\n",
              "      <td>U.S., North Korea clash at U.N. forum over nuc...</td>\n",
              "      <td>GENEVA (Reuters) - North Korea and the United ...</td>\n",
              "      <td>worldnews</td>\n",
              "      <td>August 22, 2017</td>\n",
              "      <td>1</td>\n",
              "    </tr>\n",
              "    <tr>\n",
              "      <th>21409</th>\n",
              "      <td>U.S., North Korea clash at U.N. arms forum on ...</td>\n",
              "      <td>GENEVA (Reuters) - North Korea and the United ...</td>\n",
              "      <td>worldnews</td>\n",
              "      <td>August 22, 2017</td>\n",
              "      <td>1</td>\n",
              "    </tr>\n",
              "    <tr>\n",
              "      <th>21410</th>\n",
              "      <td>Headless torso could belong to submarine journ...</td>\n",
              "      <td>COPENHAGEN (Reuters) - Danish police said on T...</td>\n",
              "      <td>worldnews</td>\n",
              "      <td>August 22, 2017</td>\n",
              "      <td>1</td>\n",
              "    </tr>\n",
              "    <tr>\n",
              "      <th>21411</th>\n",
              "      <td>North Korea shipments to Syria chemical arms a...</td>\n",
              "      <td>UNITED NATIONS (Reuters) - Two North Korean sh...</td>\n",
              "      <td>worldnews</td>\n",
              "      <td>August 21, 2017</td>\n",
              "      <td>1</td>\n",
              "    </tr>\n",
              "    <tr>\n",
              "      <th>21412</th>\n",
              "      <td>'Fully committed' NATO backs new U.S. approach...</td>\n",
              "      <td>BRUSSELS (Reuters) - NATO allies on Tuesday we...</td>\n",
              "      <td>worldnews</td>\n",
              "      <td>August 22, 2017</td>\n",
              "      <td>1</td>\n",
              "    </tr>\n",
              "    <tr>\n",
              "      <th>21413</th>\n",
              "      <td>LexisNexis withdrew two products from Chinese ...</td>\n",
              "      <td>LONDON (Reuters) - LexisNexis, a provider of l...</td>\n",
              "      <td>worldnews</td>\n",
              "      <td>August 22, 2017</td>\n",
              "      <td>1</td>\n",
              "    </tr>\n",
              "    <tr>\n",
              "      <th>21414</th>\n",
              "      <td>Minsk cultural hub becomes haven from authorities</td>\n",
              "      <td>MINSK (Reuters) - In the shadow of disused Sov...</td>\n",
              "      <td>worldnews</td>\n",
              "      <td>August 22, 2017</td>\n",
              "      <td>1</td>\n",
              "    </tr>\n",
              "    <tr>\n",
              "      <th>21415</th>\n",
              "      <td>Vatican upbeat on possibility of Pope Francis ...</td>\n",
              "      <td>MOSCOW (Reuters) - Vatican Secretary of State ...</td>\n",
              "      <td>worldnews</td>\n",
              "      <td>August 22, 2017</td>\n",
              "      <td>1</td>\n",
              "    </tr>\n",
              "    <tr>\n",
              "      <th>21416</th>\n",
              "      <td>Indonesia to buy $1.14 billion worth of Russia...</td>\n",
              "      <td>JAKARTA (Reuters) - Indonesia will buy 11 Sukh...</td>\n",
              "      <td>worldnews</td>\n",
              "      <td>August 22, 2017</td>\n",
              "      <td>1</td>\n",
              "    </tr>\n",
              "  </tbody>\n",
              "</table>\n",
              "</div>"
            ],
            "text/plain": [
              "                                                   title  ... class\n",
              "21407  Mata Pires, owner of embattled Brazil builder ...  ...     1\n",
              "21408  U.S., North Korea clash at U.N. forum over nuc...  ...     1\n",
              "21409  U.S., North Korea clash at U.N. arms forum on ...  ...     1\n",
              "21410  Headless torso could belong to submarine journ...  ...     1\n",
              "21411  North Korea shipments to Syria chemical arms a...  ...     1\n",
              "21412  'Fully committed' NATO backs new U.S. approach...  ...     1\n",
              "21413  LexisNexis withdrew two products from Chinese ...  ...     1\n",
              "21414  Minsk cultural hub becomes haven from authorities  ...     1\n",
              "21415  Vatican upbeat on possibility of Pope Francis ...  ...     1\n",
              "21416  Indonesia to buy $1.14 billion worth of Russia...  ...     1\n",
              "\n",
              "[10 rows x 5 columns]"
            ]
          },
          "metadata": {
            "tags": []
          },
          "execution_count": 11
        }
      ]
    },
    {
      "cell_type": "markdown",
      "metadata": {
        "id": "SbwizTKv1V1s"
      },
      "source": [
        "Concating refined entries and string it into a diffrent file"
      ]
    },
    {
      "cell_type": "code",
      "metadata": {
        "id": "VTU1AGqYvnzj"
      },
      "source": [
        "df_manual_testing = pd.concat([df_fake_manual_testing,df_true_manual_testing], axis = 0)\n",
        "df_manual_testing.to_csv(\"manual_testing.csv\")"
      ],
      "execution_count": 12,
      "outputs": []
    },
    {
      "cell_type": "code",
      "metadata": {
        "colab": {
          "base_uri": "https://localhost:8080/",
          "height": 529
        },
        "id": "vgpH5oDrvtA6",
        "outputId": "5720196c-a25b-4688-89c0-3e0b9282e543"
      },
      "source": [
        "df_marge = pd.concat([df_fake, df_true], axis =0 )\n",
        "df_marge.head(10)"
      ],
      "execution_count": 13,
      "outputs": [
        {
          "output_type": "execute_result",
          "data": {
            "text/html": [
              "<div>\n",
              "<style scoped>\n",
              "    .dataframe tbody tr th:only-of-type {\n",
              "        vertical-align: middle;\n",
              "    }\n",
              "\n",
              "    .dataframe tbody tr th {\n",
              "        vertical-align: top;\n",
              "    }\n",
              "\n",
              "    .dataframe thead th {\n",
              "        text-align: right;\n",
              "    }\n",
              "</style>\n",
              "<table border=\"1\" class=\"dataframe\">\n",
              "  <thead>\n",
              "    <tr style=\"text-align: right;\">\n",
              "      <th></th>\n",
              "      <th>title</th>\n",
              "      <th>text</th>\n",
              "      <th>subject</th>\n",
              "      <th>date</th>\n",
              "      <th>class</th>\n",
              "    </tr>\n",
              "  </thead>\n",
              "  <tbody>\n",
              "    <tr>\n",
              "      <th>0</th>\n",
              "      <td>Donald Trump Sends Out Embarrassing New Year’...</td>\n",
              "      <td>Donald Trump just couldn t wish all Americans ...</td>\n",
              "      <td>News</td>\n",
              "      <td>December 31, 2017</td>\n",
              "      <td>0</td>\n",
              "    </tr>\n",
              "    <tr>\n",
              "      <th>1</th>\n",
              "      <td>Drunk Bragging Trump Staffer Started Russian ...</td>\n",
              "      <td>House Intelligence Committee Chairman Devin Nu...</td>\n",
              "      <td>News</td>\n",
              "      <td>December 31, 2017</td>\n",
              "      <td>0</td>\n",
              "    </tr>\n",
              "    <tr>\n",
              "      <th>2</th>\n",
              "      <td>Sheriff David Clarke Becomes An Internet Joke...</td>\n",
              "      <td>On Friday, it was revealed that former Milwauk...</td>\n",
              "      <td>News</td>\n",
              "      <td>December 30, 2017</td>\n",
              "      <td>0</td>\n",
              "    </tr>\n",
              "    <tr>\n",
              "      <th>3</th>\n",
              "      <td>Trump Is So Obsessed He Even Has Obama’s Name...</td>\n",
              "      <td>On Christmas day, Donald Trump announced that ...</td>\n",
              "      <td>News</td>\n",
              "      <td>December 29, 2017</td>\n",
              "      <td>0</td>\n",
              "    </tr>\n",
              "    <tr>\n",
              "      <th>4</th>\n",
              "      <td>Pope Francis Just Called Out Donald Trump Dur...</td>\n",
              "      <td>Pope Francis used his annual Christmas Day mes...</td>\n",
              "      <td>News</td>\n",
              "      <td>December 25, 2017</td>\n",
              "      <td>0</td>\n",
              "    </tr>\n",
              "    <tr>\n",
              "      <th>5</th>\n",
              "      <td>Racist Alabama Cops Brutalize Black Boy While...</td>\n",
              "      <td>The number of cases of cops brutalizing and ki...</td>\n",
              "      <td>News</td>\n",
              "      <td>December 25, 2017</td>\n",
              "      <td>0</td>\n",
              "    </tr>\n",
              "    <tr>\n",
              "      <th>6</th>\n",
              "      <td>Fresh Off The Golf Course, Trump Lashes Out A...</td>\n",
              "      <td>Donald Trump spent a good portion of his day a...</td>\n",
              "      <td>News</td>\n",
              "      <td>December 23, 2017</td>\n",
              "      <td>0</td>\n",
              "    </tr>\n",
              "    <tr>\n",
              "      <th>7</th>\n",
              "      <td>Trump Said Some INSANELY Racist Stuff Inside ...</td>\n",
              "      <td>In the wake of yet another court decision that...</td>\n",
              "      <td>News</td>\n",
              "      <td>December 23, 2017</td>\n",
              "      <td>0</td>\n",
              "    </tr>\n",
              "    <tr>\n",
              "      <th>8</th>\n",
              "      <td>Former CIA Director Slams Trump Over UN Bully...</td>\n",
              "      <td>Many people have raised the alarm regarding th...</td>\n",
              "      <td>News</td>\n",
              "      <td>December 22, 2017</td>\n",
              "      <td>0</td>\n",
              "    </tr>\n",
              "    <tr>\n",
              "      <th>9</th>\n",
              "      <td>WATCH: Brand-New Pro-Trump Ad Features So Muc...</td>\n",
              "      <td>Just when you might have thought we d get a br...</td>\n",
              "      <td>News</td>\n",
              "      <td>December 21, 2017</td>\n",
              "      <td>0</td>\n",
              "    </tr>\n",
              "  </tbody>\n",
              "</table>\n",
              "</div>"
            ],
            "text/plain": [
              "                                               title  ... class\n",
              "0   Donald Trump Sends Out Embarrassing New Year’...  ...     0\n",
              "1   Drunk Bragging Trump Staffer Started Russian ...  ...     0\n",
              "2   Sheriff David Clarke Becomes An Internet Joke...  ...     0\n",
              "3   Trump Is So Obsessed He Even Has Obama’s Name...  ...     0\n",
              "4   Pope Francis Just Called Out Donald Trump Dur...  ...     0\n",
              "5   Racist Alabama Cops Brutalize Black Boy While...  ...     0\n",
              "6   Fresh Off The Golf Course, Trump Lashes Out A...  ...     0\n",
              "7   Trump Said Some INSANELY Racist Stuff Inside ...  ...     0\n",
              "8   Former CIA Director Slams Trump Over UN Bully...  ...     0\n",
              "9   WATCH: Brand-New Pro-Trump Ad Features So Muc...  ...     0\n",
              "\n",
              "[10 rows x 5 columns]"
            ]
          },
          "metadata": {
            "tags": []
          },
          "execution_count": 13
        }
      ]
    },
    {
      "cell_type": "markdown",
      "metadata": {
        "id": "okH9a9s31pOu"
      },
      "source": [
        "Merging the columns like title text subject and date"
      ]
    },
    {
      "cell_type": "code",
      "metadata": {
        "colab": {
          "base_uri": "https://localhost:8080/"
        },
        "id": "HSp2p9SZvyhq",
        "outputId": "2e4e614e-c9df-48cb-80c2-1548831ae18d"
      },
      "source": [
        "df_marge.columns"
      ],
      "execution_count": 14,
      "outputs": [
        {
          "output_type": "execute_result",
          "data": {
            "text/plain": [
              "Index(['title', 'text', 'subject', 'date', 'class'], dtype='object')"
            ]
          },
          "metadata": {
            "tags": []
          },
          "execution_count": 14
        }
      ]
    },
    {
      "cell_type": "code",
      "metadata": {
        "id": "e400pjB8v0nF"
      },
      "source": [
        "df = df_marge.drop([\"title\", \"subject\",\"date\"], axis = 1)"
      ],
      "execution_count": 15,
      "outputs": []
    },
    {
      "cell_type": "markdown",
      "metadata": {
        "id": "Slvt2yxB1xu1"
      },
      "source": [
        "Checking for null columns"
      ]
    },
    {
      "cell_type": "code",
      "metadata": {
        "colab": {
          "base_uri": "https://localhost:8080/"
        },
        "id": "rDy_YOqxv7N2",
        "outputId": "6590e595-b552-4bb5-fe4c-7eb48121c623"
      },
      "source": [
        "df.isnull().sum()"
      ],
      "execution_count": 16,
      "outputs": [
        {
          "output_type": "execute_result",
          "data": {
            "text/plain": [
              "text     0\n",
              "class    0\n",
              "dtype: int64"
            ]
          },
          "metadata": {
            "tags": []
          },
          "execution_count": 16
        }
      ]
    },
    {
      "cell_type": "markdown",
      "metadata": {
        "id": "XP9QlsV_10Jp"
      },
      "source": [
        "Randomizing the data"
      ]
    },
    {
      "cell_type": "code",
      "metadata": {
        "id": "-fdf31gOv8r2"
      },
      "source": [
        "df = df.sample(frac = 1)"
      ],
      "execution_count": 17,
      "outputs": []
    },
    {
      "cell_type": "code",
      "metadata": {
        "colab": {
          "base_uri": "https://localhost:8080/",
          "height": 204
        },
        "id": "_7Y9yim3wCCe",
        "outputId": "bc1723c1-c0ef-4ab3-cbc8-ccae3bfac85b"
      },
      "source": [
        "df.head()"
      ],
      "execution_count": 18,
      "outputs": [
        {
          "output_type": "execute_result",
          "data": {
            "text/html": [
              "<div>\n",
              "<style scoped>\n",
              "    .dataframe tbody tr th:only-of-type {\n",
              "        vertical-align: middle;\n",
              "    }\n",
              "\n",
              "    .dataframe tbody tr th {\n",
              "        vertical-align: top;\n",
              "    }\n",
              "\n",
              "    .dataframe thead th {\n",
              "        text-align: right;\n",
              "    }\n",
              "</style>\n",
              "<table border=\"1\" class=\"dataframe\">\n",
              "  <thead>\n",
              "    <tr style=\"text-align: right;\">\n",
              "      <th></th>\n",
              "      <th>text</th>\n",
              "      <th>class</th>\n",
              "    </tr>\n",
              "  </thead>\n",
              "  <tbody>\n",
              "    <tr>\n",
              "      <th>11491</th>\n",
              "      <td>BAGHDAD (Reuters) - Iraqi Shi ite paramilitary...</td>\n",
              "      <td>1</td>\n",
              "    </tr>\n",
              "    <tr>\n",
              "      <th>17467</th>\n",
              "      <td>BEIRUT (Reuters) - Tribal chiefs are organizin...</td>\n",
              "      <td>1</td>\n",
              "    </tr>\n",
              "    <tr>\n",
              "      <th>11368</th>\n",
              "      <td>(This version of the Dec. 25 story was refile...</td>\n",
              "      <td>1</td>\n",
              "    </tr>\n",
              "    <tr>\n",
              "      <th>10656</th>\n",
              "      <td>WASHINGTON (Reuters) - U.S. Senate Armed Servi...</td>\n",
              "      <td>1</td>\n",
              "    </tr>\n",
              "    <tr>\n",
              "      <th>13331</th>\n",
              "      <td>If the Trump campaign arranges a rally while O...</td>\n",
              "      <td>0</td>\n",
              "    </tr>\n",
              "  </tbody>\n",
              "</table>\n",
              "</div>"
            ],
            "text/plain": [
              "                                                    text  class\n",
              "11491  BAGHDAD (Reuters) - Iraqi Shi ite paramilitary...      1\n",
              "17467  BEIRUT (Reuters) - Tribal chiefs are organizin...      1\n",
              "11368   (This version of the Dec. 25 story was refile...      1\n",
              "10656  WASHINGTON (Reuters) - U.S. Senate Armed Servi...      1\n",
              "13331  If the Trump campaign arranges a rally while O...      0"
            ]
          },
          "metadata": {
            "tags": []
          },
          "execution_count": 18
        }
      ]
    },
    {
      "cell_type": "markdown",
      "metadata": {
        "id": "ytcUB_0916aH"
      },
      "source": [
        "Reseting the indexes"
      ]
    },
    {
      "cell_type": "code",
      "metadata": {
        "id": "0k9x8THhwMkW"
      },
      "source": [
        "df.reset_index(inplace = True)\n",
        "df.drop([\"index\"], axis = 1, inplace = True)"
      ],
      "execution_count": 19,
      "outputs": []
    },
    {
      "cell_type": "code",
      "metadata": {
        "colab": {
          "base_uri": "https://localhost:8080/"
        },
        "id": "RuJTInfQwR-Q",
        "outputId": "f48d9154-e185-49ef-9fd0-8d76835893c2"
      },
      "source": [
        "df.columns"
      ],
      "execution_count": 20,
      "outputs": [
        {
          "output_type": "execute_result",
          "data": {
            "text/plain": [
              "Index(['text', 'class'], dtype='object')"
            ]
          },
          "metadata": {
            "tags": []
          },
          "execution_count": 20
        }
      ]
    },
    {
      "cell_type": "code",
      "metadata": {
        "colab": {
          "base_uri": "https://localhost:8080/",
          "height": 204
        },
        "id": "a1jBKBigwWf1",
        "outputId": "0f7470ee-5e82-4bdf-9ee4-41fb33bd3b62"
      },
      "source": [
        "df.head()"
      ],
      "execution_count": 21,
      "outputs": [
        {
          "output_type": "execute_result",
          "data": {
            "text/html": [
              "<div>\n",
              "<style scoped>\n",
              "    .dataframe tbody tr th:only-of-type {\n",
              "        vertical-align: middle;\n",
              "    }\n",
              "\n",
              "    .dataframe tbody tr th {\n",
              "        vertical-align: top;\n",
              "    }\n",
              "\n",
              "    .dataframe thead th {\n",
              "        text-align: right;\n",
              "    }\n",
              "</style>\n",
              "<table border=\"1\" class=\"dataframe\">\n",
              "  <thead>\n",
              "    <tr style=\"text-align: right;\">\n",
              "      <th></th>\n",
              "      <th>text</th>\n",
              "      <th>class</th>\n",
              "    </tr>\n",
              "  </thead>\n",
              "  <tbody>\n",
              "    <tr>\n",
              "      <th>0</th>\n",
              "      <td>BAGHDAD (Reuters) - Iraqi Shi ite paramilitary...</td>\n",
              "      <td>1</td>\n",
              "    </tr>\n",
              "    <tr>\n",
              "      <th>1</th>\n",
              "      <td>BEIRUT (Reuters) - Tribal chiefs are organizin...</td>\n",
              "      <td>1</td>\n",
              "    </tr>\n",
              "    <tr>\n",
              "      <th>2</th>\n",
              "      <td>(This version of the Dec. 25 story was refile...</td>\n",
              "      <td>1</td>\n",
              "    </tr>\n",
              "    <tr>\n",
              "      <th>3</th>\n",
              "      <td>WASHINGTON (Reuters) - U.S. Senate Armed Servi...</td>\n",
              "      <td>1</td>\n",
              "    </tr>\n",
              "    <tr>\n",
              "      <th>4</th>\n",
              "      <td>If the Trump campaign arranges a rally while O...</td>\n",
              "      <td>0</td>\n",
              "    </tr>\n",
              "  </tbody>\n",
              "</table>\n",
              "</div>"
            ],
            "text/plain": [
              "                                                text  class\n",
              "0  BAGHDAD (Reuters) - Iraqi Shi ite paramilitary...      1\n",
              "1  BEIRUT (Reuters) - Tribal chiefs are organizin...      1\n",
              "2   (This version of the Dec. 25 story was refile...      1\n",
              "3  WASHINGTON (Reuters) - U.S. Senate Armed Servi...      1\n",
              "4  If the Trump campaign arranges a rally while O...      0"
            ]
          },
          "metadata": {
            "tags": []
          },
          "execution_count": 21
        }
      ]
    },
    {
      "cell_type": "markdown",
      "metadata": {
        "id": "whjo1_jX2Cmt"
      },
      "source": [
        "Removing punctuations links etc"
      ]
    },
    {
      "cell_type": "code",
      "metadata": {
        "id": "pTzng8Sowf-j"
      },
      "source": [
        "def wordopt(text):\n",
        "    text = text.lower()\n",
        "    text = re.sub('\\[.*?\\]', '', text)\n",
        "    text = re.sub(\"\\\\W\",\" \",text) \n",
        "    text = re.sub('https?://\\S+|www\\.\\S+', '', text)\n",
        "    text = re.sub('<.*?>+', '', text)\n",
        "    text = re.sub('[%s]' % re.escape(string.punctuation), '', text)\n",
        "    text = re.sub('\\n', '', text)\n",
        "    text = re.sub('\\w*\\d\\w*', '', text)    \n",
        "    return text"
      ],
      "execution_count": 22,
      "outputs": []
    },
    {
      "cell_type": "code",
      "metadata": {
        "id": "F7UFDv7Wwlzj"
      },
      "source": [
        "df[\"text\"] = df[\"text\"].apply(wordopt)"
      ],
      "execution_count": 23,
      "outputs": []
    },
    {
      "cell_type": "markdown",
      "metadata": {
        "id": "WQdpJgGF2PXN"
      },
      "source": [
        "Data  splitting into training and test set"
      ]
    },
    {
      "cell_type": "code",
      "metadata": {
        "id": "Rqg6KKYPwxer"
      },
      "source": [
        "x = df[\"text\"]\n",
        "y = df[\"class\"]"
      ],
      "execution_count": 24,
      "outputs": []
    },
    {
      "cell_type": "code",
      "metadata": {
        "id": "YqCdIXCYw8-P"
      },
      "source": [
        "x_train, x_test, y_train, y_test = train_test_split(x, y, test_size=0.25)"
      ],
      "execution_count": 25,
      "outputs": []
    },
    {
      "cell_type": "markdown",
      "metadata": {
        "id": "1tRoHoKY_MYS"
      },
      "source": [
        "TfidfVectorizer will tokenize documents, learn the vocabulary and inverse document frequency weightings, and allow you to encode new documents."
      ]
    },
    {
      "cell_type": "code",
      "metadata": {
        "id": "JAN1XgbFxDME"
      },
      "source": [
        "from sklearn.feature_extraction.text import TfidfVectorizer"
      ],
      "execution_count": 26,
      "outputs": []
    },
    {
      "cell_type": "code",
      "metadata": {
        "id": "d_vqaZK5xEmw"
      },
      "source": [
        "vectorization = TfidfVectorizer()\n",
        "xv_train = vectorization.fit_transform(x_train)\n",
        "xv_test = vectorization.transform(x_test)"
      ],
      "execution_count": 27,
      "outputs": []
    },
    {
      "cell_type": "markdown",
      "metadata": {
        "id": "Qy7TyNHd_WYi"
      },
      "source": [
        "Logistic Regression"
      ]
    },
    {
      "cell_type": "code",
      "metadata": {
        "id": "tH0YZsdfxLf7"
      },
      "source": [
        "from sklearn.linear_model import LogisticRegression"
      ],
      "execution_count": 28,
      "outputs": []
    },
    {
      "cell_type": "code",
      "metadata": {
        "colab": {
          "base_uri": "https://localhost:8080/"
        },
        "id": "fXjZKvFbxM84",
        "outputId": "3b2b8c6b-5160-4d71-81d3-cdff7ab3bd04"
      },
      "source": [
        "LR = LogisticRegression()\n",
        "LR.fit(xv_train,y_train)"
      ],
      "execution_count": 29,
      "outputs": [
        {
          "output_type": "execute_result",
          "data": {
            "text/plain": [
              "LogisticRegression(C=1.0, class_weight=None, dual=False, fit_intercept=True,\n",
              "                   intercept_scaling=1, l1_ratio=None, max_iter=100,\n",
              "                   multi_class='auto', n_jobs=None, penalty='l2',\n",
              "                   random_state=None, solver='lbfgs', tol=0.0001, verbose=0,\n",
              "                   warm_start=False)"
            ]
          },
          "metadata": {
            "tags": []
          },
          "execution_count": 29
        }
      ]
    },
    {
      "cell_type": "code",
      "metadata": {
        "id": "df8o4g-pxSZO"
      },
      "source": [
        "pred_lr=LR.predict(xv_test)"
      ],
      "execution_count": 30,
      "outputs": []
    },
    {
      "cell_type": "code",
      "metadata": {
        "colab": {
          "base_uri": "https://localhost:8080/"
        },
        "id": "ZLTDNzmAxVP6",
        "outputId": "1289d6d6-94d7-462e-cae4-c9df457dcfeb"
      },
      "source": [
        "LR.score(xv_test, y_test)"
      ],
      "execution_count": 31,
      "outputs": [
        {
          "output_type": "execute_result",
          "data": {
            "text/plain": [
              "0.9868983957219252"
            ]
          },
          "metadata": {
            "tags": []
          },
          "execution_count": 31
        }
      ]
    },
    {
      "cell_type": "code",
      "metadata": {
        "colab": {
          "base_uri": "https://localhost:8080/"
        },
        "id": "19ukb5EQxcpl",
        "outputId": "2cc2da7a-914c-458a-840e-b7dd609c8b8d"
      },
      "source": [
        "print(classification_report(y_test, pred_lr))"
      ],
      "execution_count": 32,
      "outputs": [
        {
          "output_type": "stream",
          "text": [
            "              precision    recall  f1-score   support\n",
            "\n",
            "           0       0.99      0.99      0.99      5887\n",
            "           1       0.99      0.99      0.99      5333\n",
            "\n",
            "    accuracy                           0.99     11220\n",
            "   macro avg       0.99      0.99      0.99     11220\n",
            "weighted avg       0.99      0.99      0.99     11220\n",
            "\n"
          ],
          "name": "stdout"
        }
      ]
    },
    {
      "cell_type": "markdown",
      "metadata": {
        "id": "6G0vFJoiAIcc"
      },
      "source": [
        "Decision Tree Classifier"
      ]
    },
    {
      "cell_type": "code",
      "metadata": {
        "id": "2JCk4V9vxhD5"
      },
      "source": [
        "from sklearn.tree import DecisionTreeClassifier"
      ],
      "execution_count": 33,
      "outputs": []
    },
    {
      "cell_type": "code",
      "metadata": {
        "colab": {
          "base_uri": "https://localhost:8080/"
        },
        "id": "Ui8bhYvjxxBr",
        "outputId": "38ab4152-ba7f-44cd-cb32-5ec7a919b468"
      },
      "source": [
        "DT = DecisionTreeClassifier()\n",
        "DT.fit(xv_train, y_train)"
      ],
      "execution_count": 34,
      "outputs": [
        {
          "output_type": "execute_result",
          "data": {
            "text/plain": [
              "DecisionTreeClassifier(ccp_alpha=0.0, class_weight=None, criterion='gini',\n",
              "                       max_depth=None, max_features=None, max_leaf_nodes=None,\n",
              "                       min_impurity_decrease=0.0, min_impurity_split=None,\n",
              "                       min_samples_leaf=1, min_samples_split=2,\n",
              "                       min_weight_fraction_leaf=0.0, presort='deprecated',\n",
              "                       random_state=None, splitter='best')"
            ]
          },
          "metadata": {
            "tags": []
          },
          "execution_count": 34
        }
      ]
    },
    {
      "cell_type": "code",
      "metadata": {
        "id": "MfGGfliIx23M"
      },
      "source": [
        "pred_dt = DT.predict(xv_test)"
      ],
      "execution_count": 35,
      "outputs": []
    },
    {
      "cell_type": "code",
      "metadata": {
        "colab": {
          "base_uri": "https://localhost:8080/"
        },
        "id": "4TvtebbUx33j",
        "outputId": "ccdd7309-a321-4a1d-9804-b40244d808da"
      },
      "source": [
        "DT.score(xv_test, y_test)"
      ],
      "execution_count": 36,
      "outputs": [
        {
          "output_type": "execute_result",
          "data": {
            "text/plain": [
              "0.9943850267379679"
            ]
          },
          "metadata": {
            "tags": []
          },
          "execution_count": 36
        }
      ]
    },
    {
      "cell_type": "code",
      "metadata": {
        "colab": {
          "base_uri": "https://localhost:8080/"
        },
        "id": "adrmZHt2x_Tt",
        "outputId": "7fa33af4-b323-4c42-f245-cc26fbdedf3e"
      },
      "source": [
        "print(classification_report(y_test, pred_dt))"
      ],
      "execution_count": 37,
      "outputs": [
        {
          "output_type": "stream",
          "text": [
            "              precision    recall  f1-score   support\n",
            "\n",
            "           0       0.99      1.00      0.99      5887\n",
            "           1       1.00      0.99      0.99      5333\n",
            "\n",
            "    accuracy                           0.99     11220\n",
            "   macro avg       0.99      0.99      0.99     11220\n",
            "weighted avg       0.99      0.99      0.99     11220\n",
            "\n"
          ],
          "name": "stdout"
        }
      ]
    },
    {
      "cell_type": "markdown",
      "metadata": {
        "id": "ICP66sZFAOsi"
      },
      "source": [
        "Gradient boosting Classifier"
      ]
    },
    {
      "cell_type": "code",
      "metadata": {
        "id": "_JYEFbAnyBFt"
      },
      "source": [
        "from sklearn.ensemble import GradientBoostingClassifier"
      ],
      "execution_count": 38,
      "outputs": []
    },
    {
      "cell_type": "code",
      "metadata": {
        "colab": {
          "base_uri": "https://localhost:8080/"
        },
        "id": "fAW8y-U7yEMZ",
        "outputId": "22ae2a4f-e8ac-420d-feec-1ec2901026c7"
      },
      "source": [
        "GBC = GradientBoostingClassifier(random_state=0)\n",
        "GBC.fit(xv_train, y_train)"
      ],
      "execution_count": 39,
      "outputs": [
        {
          "output_type": "execute_result",
          "data": {
            "text/plain": [
              "GradientBoostingClassifier(ccp_alpha=0.0, criterion='friedman_mse', init=None,\n",
              "                           learning_rate=0.1, loss='deviance', max_depth=3,\n",
              "                           max_features=None, max_leaf_nodes=None,\n",
              "                           min_impurity_decrease=0.0, min_impurity_split=None,\n",
              "                           min_samples_leaf=1, min_samples_split=2,\n",
              "                           min_weight_fraction_leaf=0.0, n_estimators=100,\n",
              "                           n_iter_no_change=None, presort='deprecated',\n",
              "                           random_state=0, subsample=1.0, tol=0.0001,\n",
              "                           validation_fraction=0.1, verbose=0,\n",
              "                           warm_start=False)"
            ]
          },
          "metadata": {
            "tags": []
          },
          "execution_count": 39
        }
      ]
    },
    {
      "cell_type": "code",
      "metadata": {
        "id": "yqWb1jejyIfE"
      },
      "source": [
        "pred_gbc = GBC.predict(xv_test)"
      ],
      "execution_count": 40,
      "outputs": []
    },
    {
      "cell_type": "code",
      "metadata": {
        "colab": {
          "base_uri": "https://localhost:8080/"
        },
        "id": "WOijqdCVyKVx",
        "outputId": "c6b7c7e1-af7f-4398-a4b0-ec93c0f4c829"
      },
      "source": [
        "GBC.score(xv_test, y_test)"
      ],
      "execution_count": 41,
      "outputs": [
        {
          "output_type": "execute_result",
          "data": {
            "text/plain": [
              "0.9947415329768271"
            ]
          },
          "metadata": {
            "tags": []
          },
          "execution_count": 41
        }
      ]
    },
    {
      "cell_type": "code",
      "metadata": {
        "colab": {
          "base_uri": "https://localhost:8080/"
        },
        "id": "NMCbD4TbyOB5",
        "outputId": "c880b67a-59e6-43ab-c1d7-9830057edfd8"
      },
      "source": [
        "print(classification_report(y_test, pred_gbc))"
      ],
      "execution_count": 42,
      "outputs": [
        {
          "output_type": "stream",
          "text": [
            "              precision    recall  f1-score   support\n",
            "\n",
            "           0       1.00      0.99      0.99      5887\n",
            "           1       0.99      1.00      0.99      5333\n",
            "\n",
            "    accuracy                           0.99     11220\n",
            "   macro avg       0.99      0.99      0.99     11220\n",
            "weighted avg       0.99      0.99      0.99     11220\n",
            "\n"
          ],
          "name": "stdout"
        }
      ]
    },
    {
      "cell_type": "markdown",
      "metadata": {
        "id": "VWrT6qsSAW2U"
      },
      "source": [
        "Random Forest Classifier"
      ]
    },
    {
      "cell_type": "code",
      "metadata": {
        "id": "7A2MMRuCyShG"
      },
      "source": [
        "from sklearn.ensemble import RandomForestClassifier"
      ],
      "execution_count": 43,
      "outputs": []
    },
    {
      "cell_type": "code",
      "metadata": {
        "colab": {
          "base_uri": "https://localhost:8080/"
        },
        "id": "RJIBcL9PyTl5",
        "outputId": "45f937bf-34c6-4459-86cc-200c65e2bd68"
      },
      "source": [
        "RFC = RandomForestClassifier(random_state=0)\n",
        "RFC.fit(xv_train, y_train)"
      ],
      "execution_count": 44,
      "outputs": [
        {
          "output_type": "execute_result",
          "data": {
            "text/plain": [
              "RandomForestClassifier(bootstrap=True, ccp_alpha=0.0, class_weight=None,\n",
              "                       criterion='gini', max_depth=None, max_features='auto',\n",
              "                       max_leaf_nodes=None, max_samples=None,\n",
              "                       min_impurity_decrease=0.0, min_impurity_split=None,\n",
              "                       min_samples_leaf=1, min_samples_split=2,\n",
              "                       min_weight_fraction_leaf=0.0, n_estimators=100,\n",
              "                       n_jobs=None, oob_score=False, random_state=0, verbose=0,\n",
              "                       warm_start=False)"
            ]
          },
          "metadata": {
            "tags": []
          },
          "execution_count": 44
        }
      ]
    },
    {
      "cell_type": "code",
      "metadata": {
        "id": "QGWTPAmCyWDC"
      },
      "source": [
        "pred_rfc = RFC.predict(xv_test)"
      ],
      "execution_count": 45,
      "outputs": []
    },
    {
      "cell_type": "code",
      "metadata": {
        "colab": {
          "base_uri": "https://localhost:8080/"
        },
        "id": "c3D6VU6oybFk",
        "outputId": "afdeb1d9-6cb2-4323-f3ab-e0ecac88928b"
      },
      "source": [
        "RFC.score(xv_test, y_test)"
      ],
      "execution_count": 46,
      "outputs": [
        {
          "output_type": "execute_result",
          "data": {
            "text/plain": [
              "0.9888591800356507"
            ]
          },
          "metadata": {
            "tags": []
          },
          "execution_count": 46
        }
      ]
    },
    {
      "cell_type": "code",
      "metadata": {
        "colab": {
          "base_uri": "https://localhost:8080/"
        },
        "id": "k4SHPp5uycw-",
        "outputId": "d0d7845b-1582-4e8f-ffe8-41bdbb008cf9"
      },
      "source": [
        "print(classification_report(y_test, pred_rfc))"
      ],
      "execution_count": 47,
      "outputs": [
        {
          "output_type": "stream",
          "text": [
            "              precision    recall  f1-score   support\n",
            "\n",
            "           0       0.99      0.99      0.99      5887\n",
            "           1       0.99      0.99      0.99      5333\n",
            "\n",
            "    accuracy                           0.99     11220\n",
            "   macro avg       0.99      0.99      0.99     11220\n",
            "weighted avg       0.99      0.99      0.99     11220\n",
            "\n"
          ],
          "name": "stdout"
        }
      ]
    },
    {
      "cell_type": "markdown",
      "metadata": {
        "id": "8VXJO2ZoAixZ"
      },
      "source": [
        "Mannual Testing"
      ]
    },
    {
      "cell_type": "code",
      "metadata": {
        "id": "EvYe-gisy0v8"
      },
      "source": [
        "def output_lable(n):\n",
        "    if n == 0:\n",
        "        return \"Fake News\"\n",
        "    elif n == 1:\n",
        "        return \"Not A Fake News\"\n",
        "    \n",
        "def manual_testing(news):\n",
        "    testing_news = {\"text\":[news]}\n",
        "    new_def_test = pd.DataFrame(testing_news)\n",
        "    new_def_test[\"text\"] = new_def_test[\"text\"].apply(wordopt) \n",
        "    new_x_test = new_def_test[\"text\"]\n",
        "    new_xv_test = vectorization.transform(new_x_test)\n",
        "    pred_LR = LR.predict(new_xv_test)\n",
        "    pred_DT = DT.predict(new_xv_test)\n",
        "    pred_GBC = GBC.predict(new_xv_test)\n",
        "    pred_RFC = RFC.predict(new_xv_test)\n",
        "\n",
        "    return print(\"\\n\\nLR Prediction: {} \\nDT Prediction: {} \\nGBC Prediction: {} \\nRFC Prediction: {}\".format(output_lable(pred_LR[0]), \n",
        "                                                                                                              output_lable(pred_DT[0]), \n",
        "                                                                                                              output_lable(pred_GBC[0]), \n",
        "                                                                                                              output_lable(pred_RFC[0])))"
      ],
      "execution_count": 48,
      "outputs": []
    },
    {
      "cell_type": "markdown",
      "metadata": {
        "id": "wq8Ne8syBNXP"
      },
      "source": [
        "Results"
      ]
    },
    {
      "cell_type": "code",
      "metadata": {
        "colab": {
          "base_uri": "https://localhost:8080/"
        },
        "id": "nvkppeKcy5I9",
        "outputId": "734693ee-19f9-43db-e117-d72af2158fb1"
      },
      "source": [
        "news = str(input())\n",
        "manual_testing(news)"
      ],
      "execution_count": 50,
      "outputs": [
        {
          "output_type": "stream",
          "text": [
            "21st Century Wire says This week, the historic international Iranian Nuclear Deal was punctuated by a two-way prisoner swap between Washington and Tehran, but it didn t end quite the way everyone expected. On the Iranian side, one of the U.S. citizens who was detained in Iran, Nosratollah Khosravi-Roodsari, has stayed in Iran, but on the U.S. side all 7 of the Iranians held in U.S. prisons DID NOT show up to their flight to Geneva for the prisoner exchange with at least 3 electing to stay in the U.S TEHRAN SIDE: In Iran, 5 U.S. prisoners were released, with 4 of them making their way to Germany via Switzerland.Will Robinson Daily MailNone of the Iranians freed in the prisoner swap have returned home and could still be in the United States, it has been reported.The seven former inmates, who were released as part of a deal with the Islamic republic, did not show up to get a flight to Geneva, Switzerland, where the exchange was set to take place on Sunday.Three of the Iranians have decided to stay in the United States, ABC reported, with some moving in with their families. However it is not known where the other four are.Three of the Americans who had been detained in Iran Washington Post journalist Jason Rezaian, former U.S. Marine Amir Hekmati and Christian pastor Saeed Abedini left Tehran at around 7am the same day, but weren t met by their counterparts in Switzerland Continue this story at the Mail OnlineREAD MORE IRAN NEWS AT: 21st Century Wire Iran Files\n",
            "\n",
            "\n",
            "LR Prediction: Fake News \n",
            "DT Prediction: Fake News \n",
            "GBC Prediction: Fake News \n",
            "RFC Prediction: Fake News\n"
          ],
          "name": "stdout"
        }
      ]
    }
  ]
}